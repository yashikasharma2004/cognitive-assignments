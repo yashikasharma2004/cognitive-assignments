{
  "nbformat": 4,
  "nbformat_minor": 0,
  "metadata": {
    "colab": {
      "provenance": []
    },
    "kernelspec": {
      "name": "python3",
      "display_name": "Python 3"
    },
    "language_info": {
      "name": "python"
    }
  },
  "cells": [
    {
      "cell_type": "code",
      "execution_count": 1,
      "metadata": {
        "colab": {
          "base_uri": "https://localhost:8080/"
        },
        "id": "YuyFTGZtaumW",
        "outputId": "7879d4e2-248d-4557-d964-54dc5fc49299"
      },
      "outputs": [
        {
          "output_type": "stream",
          "name": "stdout",
          "text": [
            "i [10, 20, 30, 40, 50, 60, 70, 80, 200, 300]\n",
            "ii [20, 40, 50, 60, 70, 80, 200, 300]\n",
            "iii. [20, 40, 50, 60, 70, 80, 200, 300]\n",
            "iv. [300, 200, 80, 70, 60, 50, 40, 20]\n"
          ]
        }
      ],
      "source": [
        "# 1. Create a List L that is defined as= [10, 20, 30, 40, 50, 60, 70, 80].\n",
        "L=[10,20,30,40,50,60,70,80]\n",
        "# i.WAP to add 200 and 300 to L.\n",
        "L.append(200)\n",
        "L.append(300)\n",
        "print(\"i\",L)\n",
        "# ii. WAP to remove 10 and 30 from L.\n",
        "L.remove(10)\n",
        "L.remove(30)\n",
        "print(\"ii\",L)\n",
        "# iii. WAP to sort L in ascending order.\n",
        "L.sort()\n",
        "print(\"iii.\",L)\n",
        "# iv. WAP to sort L in descending order.\n",
        "L.sort(reverse=True)\n",
        "print(\"iv.\",L)\n"
      ]
    },
    {
      "cell_type": "code",
      "source": [
        "# 2. Create a tuple of marks scored as scores = (45, 89.5, 76, 45.4, 89, 92, 58, 45) and\n",
        "# perform the following operations using tuple functions:\n",
        "T=(45,89,5,76,45.4,89,92,58,45)\n",
        "# i. Identify the highest score and its index in the tuple.\n",
        "highest_score=max(T)\n",
        "print(\" i. highest score is =\",highest_score)\n",
        "index=T.index(highest_score)\n",
        "print(\" i. index of highest score is =\",index)\n",
        "# ii. # Find the lowest score and count how many times it appears.\n",
        "lowest_score=min(T)\n",
        "print(\"ii. lowest score is =\",lowest_score)\n",
        "count=T.count(lowest_score)\n",
        "print(\"ii. lowest score appeared =\",count,\" times\")\n",
        "# iii. Reverse the tuple and return it as a list.\n",
        "reverse_tupple=T[::-1]\n",
        "print(\"iii. reverse of tupple is\",reverse_tupple)\n",
        "# iv. # Check if a specific score ‘76’ (input by the user) is present in the tuple and\n",
        "# print its first occurrence index, or a message saying it’s not present.\n",
        "n=float(input(\"iv. enter a number n =\"))\n",
        "if n in T:\n",
        "  print(\"index of n in original tupple \",T.index(n))\n",
        "else:\n",
        "  print(\"element is not present\")\n"
      ],
      "metadata": {
        "colab": {
          "base_uri": "https://localhost:8080/"
        },
        "id": "-Fmcni-Hdpax",
        "outputId": "1ba1b4f0-965b-434e-88bd-ab0897bdc094"
      },
      "execution_count": 8,
      "outputs": [
        {
          "output_type": "stream",
          "name": "stdout",
          "text": [
            " i. highest score is = 92\n",
            " i. index of highest score is = 6\n",
            "ii. lowest score is = 5\n",
            "ii. lowest score appeared = 1  times\n",
            "iii. reverse of tupple is (45, 58, 92, 89, 45.4, 76, 5, 89, 45)\n",
            "iv. enter a number n =123\n",
            "element is not present\n"
          ]
        }
      ]
    },
    {
      "cell_type": "code",
      "source": [
        "# 3. WAP to create a list of 100 random numbers between 100 and 900. Count and print the:\n",
        "import random as random\n",
        "\n",
        "def is_prime(num):\n",
        "  if num<=1:\n",
        "    return False\n",
        "  for i in range(2, int(num**0.5) + 1):\n",
        "        if num % i == 0:\n",
        "            return False\n",
        "  return True\n",
        "\n",
        "random_nums=[]\n",
        "\n",
        "for i in range(100):\n",
        "  random_nums.append(random.randint(100, 900))\n",
        "\n",
        "print(\"list =\",random_nums)\n",
        "\n",
        "odd_nums=[]\n",
        "even_nums=[]\n",
        "prime_nums=[]\n",
        "\n",
        "for i in random_nums:\n",
        "  if i%2==0:\n",
        "    even_nums.append(i)\n",
        "  else :\n",
        "    odd_nums.append(i)\n",
        "\n",
        "  if is_prime(i):\n",
        "    prime_nums.append(i)\n",
        "\n",
        "\n",
        "\n",
        "# i. All odd numbers\n",
        "print(\"Odd nums : \",odd_nums)\n",
        "# ii. All even numbers\n",
        "print(\"Even nums : \",even_nums)\n",
        "# iii. All prime numbers\n",
        "print(\"Prime nums : \",prime_nums)\n"
      ],
      "metadata": {
        "colab": {
          "base_uri": "https://localhost:8080/"
        },
        "id": "Bi0hn37LqVjs",
        "outputId": "54053347-cd13-419c-da18-786193e800e1"
      },
      "execution_count": 11,
      "outputs": [
        {
          "output_type": "stream",
          "name": "stdout",
          "text": [
            "list = [291, 300, 355, 615, 148, 614, 395, 477, 761, 652, 532, 253, 221, 667, 215, 833, 304, 792, 427, 467, 100, 501, 422, 742, 305, 125, 493, 144, 653, 628, 276, 247, 642, 431, 544, 577, 865, 309, 276, 644, 563, 302, 550, 465, 684, 249, 659, 700, 753, 454, 376, 490, 314, 263, 894, 272, 182, 728, 724, 167, 355, 573, 222, 725, 350, 355, 653, 570, 715, 842, 757, 300, 325, 554, 570, 672, 606, 659, 795, 325, 531, 607, 160, 838, 848, 661, 709, 169, 602, 232, 121, 647, 109, 178, 269, 389, 176, 129, 740, 697]\n",
            "Odd nums :  [291, 355, 615, 395, 477, 761, 253, 221, 667, 215, 833, 427, 467, 501, 305, 125, 493, 653, 247, 431, 577, 865, 309, 563, 465, 249, 659, 753, 263, 167, 355, 573, 725, 355, 653, 715, 757, 325, 659, 795, 325, 531, 607, 661, 709, 169, 121, 647, 109, 269, 389, 129, 697]\n",
            "Even nums :  [300, 148, 614, 652, 532, 304, 792, 100, 422, 742, 144, 628, 276, 642, 544, 276, 644, 302, 550, 684, 700, 454, 376, 490, 314, 894, 272, 182, 728, 724, 222, 350, 570, 842, 300, 554, 570, 672, 606, 160, 838, 848, 602, 232, 178, 176, 740]\n",
            "Prime nums :  [761, 467, 653, 431, 577, 563, 659, 263, 167, 653, 757, 659, 607, 661, 709, 647, 109, 269, 389]\n"
          ]
        }
      ]
    },
    {
      "cell_type": "code",
      "source": [
        "# 4. Consider the following two sets, A and B, represen ng scores of two teams in mul ple\n",
        "# matches.  A = {34, 56, 78, 90}  and B = {78, 45, 90, 23}\n",
        "# WAP to perform the following operations using set functions:\n",
        "A={34,56,78,90}\n",
        "B={78,45,90,23}\n",
        "# i.  Find the unique scores achieved by both teams (union of sets).\n",
        "union_unique_score=A.union(B)\n",
        "print(\"unique score from AUB =\",union_unique_score)\n",
        "# ii.  Identify the scores that are common to both teams (intersec on of sets).\n",
        "intersection_score=A.intersection(B)\n",
        "print(\"unique score from A/\\B =\", intersection_score)\n",
        "# iii.  Find the scores that are exclusive to each team (symmetric difference).\n",
        "symmetric_score=A.symmetric_difference(B)\n",
        "print(\" symmetric difference of A and B\",symmetric_score)\n",
        "# iv. Check if the scores of team A are a subset of team B, and if team B's scores are a superset of team A.\n",
        "print(\" A is subset of B\",A.issubset(B))\n",
        "print(\" B is superset of A\",B.issuperset(A))\n",
        "# v. Remove a specific score 𝑋 (input by the user) from set A if it exists. If not, print  a message saying\n",
        "# it is not present.\n",
        "n=int(input(\"enter a number n\"))\n",
        "if n in A:\n",
        "   A.remove(n)\n",
        "   print(\"set after removing \",n,\" is\",\"=\",A)\n",
        "else :\n",
        " print(\"no such element present\")"
      ],
      "metadata": {
        "colab": {
          "base_uri": "https://localhost:8080/"
        },
        "id": "kZN8N_K9vQ-h",
        "outputId": "9b5c43a5-4220-4485-dc2d-a757ba55dd19"
      },
      "execution_count": 18,
      "outputs": [
        {
          "output_type": "stream",
          "name": "stdout",
          "text": [
            "unique score from AUB = {34, 45, 78, 23, 56, 90}\n",
            "unique score from A/\\B = {90, 78}\n",
            " symmetric difference of A and B {34, 45, 23, 56}\n",
            " A is subset of B False\n",
            " B is superset of A False\n",
            "enter a number n123\n",
            "no such element present\n"
          ]
        }
      ]
    },
    {
      "cell_type": "code",
      "source": [
        "\n",
        "#5. Write a program to rename a key city to a locaƟon in the following dictionary.\n",
        "dictionary1={\n",
        "    \"name\":\"Kelly\",\n",
        "    \"age\":25,\n",
        "    \"salary\":8000,\n",
        "    \"city\":\"New York\"\n",
        "}\n",
        "\n",
        "if \"city\" in dictionary1:\n",
        "  dictionary1[\"location\"] = dictionary1.pop(\"city\")\n",
        "\n",
        "print(dictionary1)"
      ],
      "metadata": {
        "colab": {
          "base_uri": "https://localhost:8080/"
        },
        "id": "1Io6tepO0Zm5",
        "outputId": "438009e8-d55a-41cd-bf79-7ed7281b78fa"
      },
      "execution_count": 19,
      "outputs": [
        {
          "output_type": "stream",
          "name": "stdout",
          "text": [
            "{'name': 'Kelly', 'age': 25, 'salary': 8000, 'location': 'New York'}\n"
          ]
        }
      ]
    }
  ]
}