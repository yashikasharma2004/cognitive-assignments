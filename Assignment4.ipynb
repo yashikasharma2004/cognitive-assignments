{
  "cells": [
    {
      "cell_type": "code",
      "execution_count": 1,
      "id": "71b5334d-3303-4b2c-bd86-0115e435e029",
      "metadata": {
        "colab": {
          "base_uri": "https://localhost:8080/"
        },
        "id": "71b5334d-3303-4b2c-bd86-0115e435e029",
        "outputId": "651ab376-7983-4381-905f-48e551886a37"
      },
      "outputs": [
        {
          "output_type": "stream",
          "name": "stdout",
          "text": [
            "[2 3 4 5 6]\n"
          ]
        }
      ],
      "source": [
        "# Q.1 Write a program to create a NumPy 1D-array with 5 elements and perform basic operations like:\n",
        "# a) Addition of 2 in all the element\n",
        "import numpy as np\n",
        "a=np.array([0,1,2,3,4])\n",
        "a=a+2\n",
        "print(a)"
      ]
    },
    {
      "cell_type": "code",
      "execution_count": 2,
      "id": "9b66cdd1-e94a-4e47-9882-40e1aec2681c",
      "metadata": {
        "colab": {
          "base_uri": "https://localhost:8080/"
        },
        "id": "9b66cdd1-e94a-4e47-9882-40e1aec2681c",
        "outputId": "c059b59e-9ddf-4401-e9dc-3da6756c5c72"
      },
      "outputs": [
        {
          "output_type": "stream",
          "name": "stdout",
          "text": [
            "[ 3  6  9 12 15]\n"
          ]
        }
      ],
      "source": [
        " # b) Multiply 3 with all the elements\n",
        "b=np.array([1,2,3,4,5])\n",
        "b=b*3\n",
        "print(b)"
      ]
    },
    {
      "cell_type": "code",
      "execution_count": 3,
      "id": "35e7e28c-87eb-4b5a-8256-b00d1358eb31",
      "metadata": {
        "colab": {
          "base_uri": "https://localhost:8080/"
        },
        "id": "35e7e28c-87eb-4b5a-8256-b00d1358eb31",
        "outputId": "94d7229b-a3b6-4e5b-d41e-c845985b34d0"
      },
      "outputs": [
        {
          "output_type": "stream",
          "name": "stdout",
          "text": [
            "[5. 4. 3. 2. 1.]\n"
          ]
        }
      ],
      "source": [
        "# c) Divide every element by 2\n",
        "b=np.array([10,8,6,4,2])\n",
        "b=b/2\n",
        "print(b)"
      ]
    },
    {
      "cell_type": "code",
      "execution_count": 4,
      "id": "d6606a79-7144-4dc7-aaf1-248f932acb76",
      "metadata": {
        "colab": {
          "base_uri": "https://localhost:8080/"
        },
        "id": "d6606a79-7144-4dc7-aaf1-248f932acb76",
        "outputId": "0c5a83f4-7f14-4a74-b301-e9d51796b2ed"
      },
      "outputs": [
        {
          "output_type": "stream",
          "name": "stdout",
          "text": [
            "[5 4 3 2 1]\n"
          ]
        }
      ],
      "source": [
        "# Q.2 Questions on Basic NumPy Array:\n",
        "# a) Reverse the NumPy array: arr = np.array([1, 2, 3, 6, 4, 5])\n",
        "arr=np.array([1,2,3,4,5])\n",
        "arr=np.flip(arr)\n",
        "print(arr)"
      ]
    },
    {
      "cell_type": "code",
      "execution_count": 5,
      "id": "77266511-6ecb-45de-971f-0e272f54749e",
      "metadata": {
        "colab": {
          "base_uri": "https://localhost:8080/"
        },
        "id": "77266511-6ecb-45de-971f-0e272f54749e",
        "outputId": "ba187844-3100-4756-f528-848ac88d88a5"
      },
      "outputs": [
        {
          "output_type": "stream",
          "name": "stdout",
          "text": [
            "most frequent element 1\n",
            "mode is occuring at\n",
            "1\n",
            "6\n",
            "8\n",
            "9\n"
          ]
        }
      ],
      "source": [
        "# b) Find the most frequent value and their indice(s) in the following arrays:\n",
        "# i. x = np.array([1,2,3,4,5,1,2,1,1,1])\n",
        "from statistics import mode\n",
        "x=np.array([1,2,3,4,5,1,2,1,1,1])\n",
        "a=(mode(x))\n",
        "print(\"most frequent element\",a)\n",
        "print(\"mode is occuring at\")\n",
        "for i in range(0,len(x)-1):\n",
        "    if x[i]==a:\n",
        "     print(i+1)"
      ]
    },
    {
      "cell_type": "code",
      "execution_count": 6,
      "id": "daa37115-101c-435c-8d80-e37a4b624a02",
      "metadata": {
        "colab": {
          "base_uri": "https://localhost:8080/"
        },
        "id": "daa37115-101c-435c-8d80-e37a4b624a02",
        "outputId": "befa008b-e585-4c82-81b1-0fc1029cbfb1"
      },
      "outputs": [
        {
          "output_type": "stream",
          "name": "stdout",
          "text": [
            "most frequent element 1\n",
            "mode is occuring at\n",
            "1\n",
            "2\n",
            "3\n"
          ]
        }
      ],
      "source": [
        "# ii. y = np.array([1, 1, 1, 2, 3, 4, 2, 4, 3, 3, ])\n",
        "from statistics import mode\n",
        "x=np.array([1,1,1,2,3,4,2,4,3,3])\n",
        "a=(mode(x))\n",
        "print(\"most frequent element\",a)\n",
        "print(\"mode is occuring at\")\n",
        "for i in range(0,len(x)-1):\n",
        "    if x[i]==a:\n",
        "     print(i+1)\n",
        "\n",
        "\n"
      ]
    },
    {
      "cell_type": "code",
      "execution_count": null,
      "id": "59c967d5-8982-41fd-954b-b70e6aa4598d",
      "metadata": {
        "id": "59c967d5-8982-41fd-954b-b70e6aa4598d",
        "outputId": "3ffbe5ec-28d8-4d17-c762-b1ff9bf65498"
      },
      "outputs": [
        {
          "name": "stdout",
          "output_type": "stream",
          "text": [
            "[[10 20 30]\n",
            " [40 50 60]\n",
            " [70 80 90]]\n"
          ]
        },
        {
          "data": {
            "text/plain": [
              "20"
            ]
          },
          "execution_count": 19,
          "metadata": {},
          "output_type": "execute_result"
        }
      ],
      "source": [
        "# Q.3 For the given 2-D array arr=np.array([10, 20, 30], [40, 50, 60], [70, 80, 90]), access elements using row and column indices as follows:\n",
        "# a) Access 1st row, 2nd column\n",
        "arr=np.array([[10,20,30],[40,50,60],[70,80,90]])\n",
        "print(arr)\n",
        "arr[0,1]"
      ]
    },
    {
      "cell_type": "code",
      "execution_count": null,
      "id": "04a92aa0-99f7-4e0a-88eb-ec1c128641d9",
      "metadata": {
        "id": "04a92aa0-99f7-4e0a-88eb-ec1c128641d9",
        "outputId": "db767d52-0a31-49d4-defc-89b1f31c385b"
      },
      "outputs": [
        {
          "data": {
            "text/plain": [
              "70"
            ]
          },
          "execution_count": 18,
          "metadata": {},
          "output_type": "execute_result"
        }
      ],
      "source": [
        "# b) Access 3rd row, 1st column\n",
        "arr[2,0]"
      ]
    },
    {
      "cell_type": "code",
      "execution_count": 7,
      "id": "9663ebde-a31e-45eb-a331-5f14a6bd32d2",
      "metadata": {
        "colab": {
          "base_uri": "https://localhost:8080/"
        },
        "id": "9663ebde-a31e-45eb-a331-5f14a6bd32d2",
        "outputId": "99721787-2dee-4caa-d83c-be510da14447"
      },
      "outputs": [
        {
          "output_type": "stream",
          "name": "stdout",
          "text": [
            "[ 10.    13.75  17.5   21.25  25.    28.75  32.5   36.25  40.    43.75\n",
            "  47.5   51.25  55.    58.75  62.5   66.25  70.    73.75  77.5   81.25\n",
            "  85.    88.75  92.5   96.25 100.  ]\n",
            "dimensions 1\n",
            "shape (25,)\n",
            "total elements 25\n",
            "data type float64\n",
            "bytes 200\n",
            "transpose  [[ 10.  ]\n",
            " [ 13.75]\n",
            " [ 17.5 ]\n",
            " [ 21.25]\n",
            " [ 25.  ]\n",
            " [ 28.75]\n",
            " [ 32.5 ]\n",
            " [ 36.25]\n",
            " [ 40.  ]\n",
            " [ 43.75]\n",
            " [ 47.5 ]\n",
            " [ 51.25]\n",
            " [ 55.  ]\n",
            " [ 58.75]\n",
            " [ 62.5 ]\n",
            " [ 66.25]\n",
            " [ 70.  ]\n",
            " [ 73.75]\n",
            " [ 77.5 ]\n",
            " [ 81.25]\n",
            " [ 85.  ]\n",
            " [ 88.75]\n",
            " [ 92.5 ]\n",
            " [ 96.25]\n",
            " [100.  ]]\n",
            "using t attribute \n",
            " [ 10.    13.75  17.5   21.25  25.    28.75  32.5   36.25  40.    43.75\n",
            "  47.5   51.25  55.    58.75  62.5   66.25  70.    73.75  77.5   81.25\n",
            "  85.    88.75  92.5   96.25 100.  ]\n"
          ]
        }
      ],
      "source": [
        "'''Q.4 Write program to create an 1-D NumPy array named <<Your Name>> with evenly\n",
        "spaced 25 numbers from 10 to 100 using linspace(). Print the dimensions of the array,\n",
        "shape, total elements, the data type of each element and total number of bytes consumed\n",
        "by the array. Find the transpose of this array using reshape() attribute. Can we do the same\n",
        "with T attribute?'''\n",
        "\n",
        "yashika=np.linspace(10,100,25)\n",
        "print(yashika)\n",
        "print(\"dimensions\",yashika.ndim)\n",
        "print(\"shape\",yashika.shape)\n",
        "print(\"total elements\",yashika.size)\n",
        "print(\"data type\",yashika.dtype)\n",
        "print(\"bytes\",yashika.nbytes)\n",
        "\n",
        "\n",
        "transpose=yashika.reshape(25,1)\n",
        "print(\"transpose \",transpose)\n",
        "\n",
        "\n",
        "print(\"using t attribute \\n\",yashika.T)\n"
      ]
    },
    {
      "cell_type": "code",
      "execution_count": 8,
      "id": "797266f3-d9d1-4a32-9ee7-9515fe486cc1",
      "metadata": {
        "colab": {
          "base_uri": "https://localhost:8080/"
        },
        "id": "797266f3-d9d1-4a32-9ee7-9515fe486cc1",
        "outputId": "64ebf4e9-5235-4941-b01c-25d57b2ad181"
      },
      "outputs": [
        {
          "output_type": "stream",
          "name": "stdout",
          "text": [
            "[[10 20 30 40]\n",
            " [50 60 70 80]\n",
            " [90 15 20 30]]\n",
            "mean 42.916666666666664\n",
            "median 35.0\n",
            "maximum 90\n",
            "minimum 10\n",
            "unique elements [10 15 20 30 40 50 60 70 80 90]\n",
            "transpose [[10 20 30]\n",
            " [40 50 60]\n",
            " [70 80 90]\n",
            " [15 20 30]]\n",
            "resized\n",
            " [[10 20 30]\n",
            " [40 50 60]]\n"
          ]
        }
      ],
      "source": [
        "'''Q5. Create a 2-D Array of three rows and four columns, named ucs420_<your_name>>\n",
        "with following values – 10, 20, 30, 40, 50, 60, 70, 80, 90, 15, 20, 35. Compute the mean,\n",
        "median, max, min, unique elements. Reshape the array to four rows and three columns and\n",
        "name it as reshaped_ ucs420_<your_name>>. Resize the array to two rows and three\n",
        "columns and name it as resized_ ucs420_<your_name>>.'''\n",
        "\n",
        "\n",
        "ucs420_yashika=np.array([[10,20,30,40],[50,60,70,80],[90,15,20,30]])\n",
        "print(ucs420_yashika)\n",
        "print(\"mean\",np.mean(ucs420_yashika))\n",
        "print(\"median\",np.median(ucs420_yashika))\n",
        "print(\"maximum\",np.max(ucs420_yashika))\n",
        "print(\"minimum\",np.min(ucs420_yashika))\n",
        "print(\"unique elements\",np.unique(ucs420_yashika))\n",
        "\n",
        "\n",
        "reshaped_ucs420_yashika=ucs420_yashika.reshape(4,3)\n",
        "print(\"transpose\",reshaped_ucs420_yashika)\n",
        "\n",
        "resized_ucs420_yashika=np.resize(ucs420_yashika,(2,3))\n",
        "print(\"resized\\n\",resized_ucs420_yashika)"
      ]
    }
  ],
  "metadata": {
    "kernelspec": {
      "display_name": "Python 3 (ipykernel)",
      "language": "python",
      "name": "python3"
    },
    "language_info": {
      "codemirror_mode": {
        "name": "ipython",
        "version": 3
      },
      "file_extension": ".py",
      "mimetype": "text/x-python",
      "name": "python",
      "nbconvert_exporter": "python",
      "pygments_lexer": "ipython3",
      "version": "3.11.7"
    },
    "colab": {
      "provenance": []
    }
  },
  "nbformat": 4,
  "nbformat_minor": 5
}