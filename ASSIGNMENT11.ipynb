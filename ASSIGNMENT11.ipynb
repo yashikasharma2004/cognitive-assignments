{
  "nbformat": 4,
  "nbformat_minor": 0,
  "metadata": {
    "colab": {
      "provenance": []
    },
    "kernelspec": {
      "name": "python3",
      "display_name": "Python 3"
    },
    "language_info": {
      "name": "python"
    }
  },
  "cells": [
    {
      "cell_type": "code",
      "execution_count": 7,
      "metadata": {
        "colab": {
          "base_uri": "https://localhost:8080/",
          "height": 349
        },
        "id": "2_FMZKgAIq79",
        "outputId": "84d8bf47-7e93-48bd-829c-335f7c5500be"
      },
      "outputs": [
        {
          "output_type": "stream",
          "name": "stdout",
          "text": [
            "---- Reading Sample Medicine Bottle Label ----\n"
          ]
        },
        {
          "output_type": "display_data",
          "data": {
            "text/plain": [
              "<Figure size 640x480 with 1 Axes>"
            ],
            "image/png": "[encoded data removed]"
          },
          "metadata": {}
        },
        {
          "output_type": "stream",
          "name": "stdout",
          "text": [
            "Extracted Text:\n",
            " Paracetamol 500mg\n",
            "\n",
            "Take 1 tablet every 6 hours\n",
            "\f\n"
          ]
        }
      ],
      "source": [
        "\n",
        "!pip install pytesseract opencv-python keras tensorflow --quiet\n",
        "!apt-get install tesseract-ocr -y > /dev/null\n",
        "# QUESTION 1: Cognitive Assistant for Reading Labels of Medicine Bottles\n",
        "\n",
        "\n",
        "import cv2\n",
        "import pytesseract\n",
        "from PIL import Image\n",
        "import matplotlib.pyplot as plt\n",
        "import numpy as np\n",
        "import os\n",
        "\n",
        "# Path for pytesseract in Colab\n",
        "pytesseract.pytesseract.tesseract_cmd = r'/usr/bin/tesseract'\n",
        "\n",
        "def read_medicine_label():\n",
        "    print(\"---- Reading Sample Medicine Bottle Label ----\")\n",
        "\n",
        "    # Generate a sample label image with text\n",
        "    img = np.ones((150, 400, 3), dtype=np.uint8) * 255\n",
        "    cv2.putText(img, 'Paracetamol 500mg', (10, 50), cv2.FONT_HERSHEY_SIMPLEX, 1, (0, 0, 0), 2)\n",
        "    cv2.putText(img, 'Take 1 tablet every 6 hours', (10, 100), cv2.FONT_HERSHEY_SIMPLEX, 0.7, (0, 0, 0), 2)\n",
        "\n",
        "    # Show the image\n",
        "    plt.imshow(cv2.cvtColor(img, cv2.COLOR_BGR2RGB))\n",
        "    plt.axis('off')\n",
        "    plt.title('Simulated Medicine Label')\n",
        "    plt.show()\n",
        "\n",
        "    # Convert to grayscale and threshold\n",
        "    gray = cv2.cvtColor(img, cv2.COLOR_BGR2GRAY)\n",
        "    _, thresh = cv2.threshold(gray, 150, 255, cv2.THRESH_BINARY)\n",
        "\n",
        "    # OCR\n",
        "    text = pytesseract.image_to_string(thresh)\n",
        "    print(\"Extracted Text:\\n\", text)\n",
        "\n",
        "# Run Question 1\n",
        "read_medicine_label()\n"
      ]
    },
    {
      "cell_type": "code",
      "source": [
        "# QUESTION 2: Emotion-aware Cognitive Assistant using Facial Expression Detection\n",
        "\n",
        "def detect_emotion_simulated():\n",
        "    print(\"\\n---- Simulated Emotion Detection ----\")\n",
        "\n",
        "    # Sample data for simulation\n",
        "    sample_faces = ['face_1.jpg', 'face_2.jpg', 'face_3.jpg']\n",
        "    simulated_emotions = ['Happy', 'Sad', 'Angry']\n",
        "\n",
        "    for i in range(3):\n",
        "        print(f\"Detected face in image '{sample_faces[i]}' is showing emotion: {simulated_emotions[i]}\")\n",
        "\n",
        "    print(\"Note: This is a placeholder as no camera or dataset is available.\")\n",
        "\n",
        "# Run Question 2 (Simulation)\n",
        "detect_emotion_simulated()"
      ],
      "metadata": {
        "colab": {
          "base_uri": "https://localhost:8080/"
        },
        "id": "ztWrB88rJFqY",
        "outputId": "23f2f129-df6e-4344-db81-d9a2ab7c8549"
      },
      "execution_count": 8,
      "outputs": [
        {
          "output_type": "stream",
          "name": "stdout",
          "text": [
            "\n",
            "---- Simulated Emotion Detection ----\n",
            "Detected face in image 'face_1.jpg' is showing emotion: Happy\n",
            "Detected face in image 'face_2.jpg' is showing emotion: Sad\n",
            "Detected face in image 'face_3.jpg' is showing emotion: Angry\n",
            "Note: This is a placeholder as no camera or dataset is available.\n"
          ]
        }
      ]
    }
  ]
}